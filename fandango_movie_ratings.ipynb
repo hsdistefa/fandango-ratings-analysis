{
 "cells": [
  {
   "cell_type": "markdown",
   "metadata": {},
   "source": [
    "# Investigating Fandango Movie Ratings\n",
    "In October 2015, a data journalist named Walt Hickey analyzed Fandango's aggregated movie ratings data and found strong evidence to suggest that Fandango's rating system was biased and dishonest. He published his analysis in [this article](https://fivethirtyeight.com/features/fandango-movies-ratings/) — a great piece of data journalism worth reading.\n",
    "\n",
    "\n",
    "In this project, we'll analyze more recent movie ratings data to determine whether there has been any change in Fandango's rating system since Hickey's analysis."
   ]
  },
  {
   "cell_type": "markdown",
   "metadata": {},
   "source": [
    "## Data\n",
    "One of the best ways to figure out whether there has been any change in Fandango's rating system after Hickey's analysis is to compare the system's characteristics previous and after the analysis. Fortunately, we have ready-made data for both these periods of time:\n",
    "\n",
    "Walt Hickey made the data he analyzed publicly available on GitHub which can be found [here](https://github.com/fivethirtyeight/data/tree/master/fandango).\n",
    "\n",
    "- **FILM**\tThe film in question\n",
    "- **RottenTomatoes**\tThe Rotten Tomatoes Tomatometer score for the film\n",
    "- **RottenTomatoes_User**\tThe Rotten Tomatoes user score for the film\n",
    "- **Metacritic**\tThe Metacritic critic score for the film\n",
    "- **Metacritic_User**\tThe Metacritic user score for the film\n",
    "- **IMDB**\tThe IMDb user score for the film\n",
    "- **Fandango_Stars**\tThe number of stars the film had on its Fandango movie page\n",
    "- **Fandango_Ratingvalue**\tThe Fandango ratingValue for the film, as pulled from the HTML of each page. This is the actual average score the movie obtained.\n",
    "- **RT_norm**\tThe Rotten Tomatoes Tomatometer score for the film , normalized to a 0 to 5 point system\n",
    "- **RT_user_norm**\tThe Rotten Tomatoes user score for the film , normalized to a 0 to 5 point system\n",
    "- **Metacritic_norm**\tThe Metacritic critic score for the film, normalized to a 0 to 5 point system\n",
    "- **Metacritic_user_nom**\tThe Metacritic user score for the film, normalized to a 0 to 5 point system\n",
    "- **IMDB_norm**\tThe IMDb user score for the film, normalized to a 0 to 5 point system\n",
    "- **RT_norm_round**\tThe Rotten Tomatoes Tomatometer score for the film , normalized to a 0 to 5 point system and rounded to the nearest half-star\n",
    "- **RT_user_norm_round**\tThe Rotten Tomatoes user score for the film , normalized to a 0 to 5 point system and rounded to the nearest half-star\n",
    "- **Metacritic_norm_round**\tThe Metacritic critic score for the film, normalized to a 0 to 5 point system and rounded to the nearest half-star\n",
    "- **Metacritic_user_norm_round**\tThe Metacritic user score for the film, normalized to a 0 to 5 point system and rounded to the nearest half-star\n",
    "- **IMDB_norm_round**\tThe IMDb user score for the film, normalized to a 0 to 5 point system and rounded to the nearest half-star\n",
    "- **Metacritic_user_vote_count**\tThe number of user votes the film had on Metacritic\n",
    "- **IMDB_user_vote_count**\tThe number of user votes the film had on IMDb\n",
    "- **Fandango_votes**\tThe number of user votes the film had on Fandango\n",
    "- **Fandango_Difference**\tThe difference between the presented Fandango_Stars and the actual Fandango_Ratingvalue\n",
    "\n",
    "\n",
    "Dataquest collected movie ratings data for movies released in 2016 and 2017, after Hickey's analysis, and published it on Github [here](https://github.com/mircealex/Movie_ratings_2016_17).\n",
    "\n",
    "- **movie**\tthe name of the movie\n",
    "- **year**\tthe release year of the movie\n",
    "- **metascore**\tthe Metacritic rating of the movie (the \"metascore\" - critic score)\n",
    "- **imdb**\tthe IMDB rating of the movie (user score)\n",
    "- **tmeter**\tthe Rotten Tomatoes rating of the movie (the \"tomatometer\" - critic score)\n",
    "- **audience**\tthe Rotten Tomatoes rating of the movie (user score)\n",
    "- **fandango\tthe Fandango rating of the movie (user score)\n",
    "- **n_metascore\tthe metascore normalized to a 0-5 scale\n",
    "- **n_imdb\tthe IMDB rating normalized to a 0-5 scale\n",
    "- **n_tmeter\tthe tomatometer normalized to a 0-5 scale\n",
    "- **n_audience\tthe Rotten Tomatoes user score normalized to a 0-5 scale\n",
    "- **nr_metascore\tthe metascore normalized to a 0-5 scale and rounded to the nearest 0.5\n",
    "- **nr_imdb\tthe IMDB rating normalized to a 0-5 scale and rounded to the nearest 0.5\n",
    "- **nr_tmeter\tthe tomatometer normalized to a 0-5 scale and rounded to the nearest 0.5\n",
    "- **nr_audience\tthe Rotten Tomatoes user score normalized to a 0-5 scale and rounded to the nearest 0.5\n",
    "\n",
    "We'll use both of these datasets to analyze the rating system's characteristics before and after Hickey's analysis."
   ]
  },
  {
   "cell_type": "code",
   "execution_count": null,
   "metadata": {},
   "outputs": [],
   "source": []
  }
 ],
 "metadata": {
  "kernelspec": {
   "display_name": "Python 3",
   "language": "python",
   "name": "python3"
  },
  "language_info": {
   "codemirror_mode": {
    "name": "ipython",
    "version": 3
   },
   "file_extension": ".py",
   "mimetype": "text/x-python",
   "name": "python",
   "nbconvert_exporter": "python",
   "pygments_lexer": "ipython3",
   "version": "3.6.7"
  }
 },
 "nbformat": 4,
 "nbformat_minor": 2
}
